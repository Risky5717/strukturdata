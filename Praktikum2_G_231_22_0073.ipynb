{
  "nbformat": 4,
  "nbformat_minor": 0,
  "metadata": {
    "colab": {
      "provenance": [],
      "authorship_tag": "ABX9TyPtDHRbC/4s2tHlcym4oRGu",
      "include_colab_link": true
    },
    "kernelspec": {
      "name": "python3",
      "display_name": "Python 3"
    },
    "language_info": {
      "name": "python"
    }
  },
  "cells": [
    {
      "cell_type": "markdown",
      "metadata": {
        "id": "view-in-github",
        "colab_type": "text"
      },
      "source": [
        "<a href=\"https://colab.research.google.com/github/Risky5717/strukturdata/blob/main/Praktikum2_G_231_22_0073.ipynb\" target=\"_parent\"><img src=\"https://colab.research.google.com/assets/colab-badge.svg\" alt=\"Open In Colab\"/></a>"
      ]
    },
    {
      "cell_type": "markdown",
      "source": [
        "**Nama  : Risky Mul Tazam**\n",
        "\n",
        "**Nim   : G.231.22.0073**"
      ],
      "metadata": {
        "id": "KpZabUJN6jyY"
      }
    },
    {
      "cell_type": "code",
      "execution_count": 17,
      "metadata": {
        "colab": {
          "base_uri": "https://localhost:8080/"
        },
        "id": "vg-nWyWJI5_o",
        "outputId": "61d6dffd-5794-4216-f029-7e85aee7cd79"
      },
      "outputs": [
        {
          "output_type": "stream",
          "name": "stdout",
          "text": [
            "[2, 3, 10, 11, 24, 52, 82]\n"
          ]
        }
      ],
      "source": [
        "def ngurutakeNomer(alist):\n",
        "    for slot in range(0, len(alist) - 1):\n",
        "        posisi = slot\n",
        "        for lokasi in range(slot + 1, len(alist)):\n",
        "            if alist[lokasi] < alist[posisi]:\n",
        "                posisi = lokasi\n",
        "        temp = alist[slot]\n",
        "        alist[slot] = alist[posisi]\n",
        "        alist[posisi] = temp\n",
        "\n",
        "angka = [52, 11, 24, 2, 82, 10, 3]\n",
        "ngurutakeNomer(angka)\n",
        "print(angka)\n"
      ]
    },
    {
      "cell_type": "markdown",
      "source": [
        "**tupel**"
      ],
      "metadata": {
        "id": "KUd6VVkqNjAj"
      }
    },
    {
      "cell_type": "code",
      "source": [
        "# Membuat tupel dengan daftar makanan favorit\n",
        "makanan_favorit = (\"mie ayam\", \"bakso\", \"bubur ayam\")\n",
        "\n",
        "# Mengakses elemen tupel\n",
        "print(\"Makanan favorit pertama:\", makanan_favorit[0])\n",
        "print(\"Makanan favorit kedua:\", makanan_favorit[1])\n",
        "print(\"Makanan favorit ketiga:\", makanan_favorit[2])\n",
        "\n",
        "# Menampilkan semua makanan favorit\n",
        "for makanan in makanan_favorit:\n",
        "    print(makanan)\n",
        "\n",
        "# Mengetahui panjang tupel\n",
        "print(\"Jumlah makanan favorit:\", len(makanan_favorit))\n"
      ],
      "metadata": {
        "colab": {
          "base_uri": "https://localhost:8080/"
        },
        "id": "-wcRWAT5Nkiq",
        "outputId": "a8d3219d-e0ad-44f4-aa4a-89fff197a35a"
      },
      "execution_count": 3,
      "outputs": [
        {
          "output_type": "stream",
          "name": "stdout",
          "text": [
            "Makanan favorit pertama: mie ayam\n",
            "Makanan favorit kedua: bakso\n",
            "Makanan favorit ketiga: bubur ayam\n",
            "mie ayam\n",
            "bakso\n",
            "bubur ayam\n",
            "Jumlah makanan favorit: 3\n"
          ]
        }
      ]
    },
    {
      "cell_type": "markdown",
      "source": [
        "**Dictionary**"
      ],
      "metadata": {
        "id": "BXRrW6Ut1Wu1"
      }
    },
    {
      "cell_type": "code",
      "source": [
        "# Membuat data\n",
        "data = {\n",
        "    \"nama\": \"Natan Julianto \",\n",
        "    \"umur\": 13,\n",
        "    \"alamat\": \"Jl. Impian No. 456\",\n",
        "    \"cita-cita\": \"Pilot\"\n",
        "}\n",
        "\n",
        "# Mengakses nilai\n",
        "print(\"Nama:\", data[\"nama\"])\n",
        "print(\"Umur:\", data[\"umur\"])\n",
        "print(\"Alamat:\", data[\"alamat\"])\n",
        "print(\"Cita-cita:\", data[\"cita-cita\"])\n",
        "\n",
        "# Mengubah nilai\n",
        "data[\"umur\"] = 29\n",
        "data[\"alamat\"] = \"Jl. Kenyataan No. 789\"\n",
        "\n",
        "# Menambahkan entri baru\n",
        "data[\"pekerjaan\"] = \"Youtubers\"\n",
        "data[\"email\"] = \"Natanjuliantogans876@gmail.com\"\n",
        "\n",
        "# Menghapus entri\n",
        "del data[\"cita-cita\"]\n",
        "\n",
        "# Menampilkan seluruh isi data\n",
        "print(\"\\nData Terbaru :\")\n",
        "for kunci, nilai in data.items():\n",
        "    print(kunci + \": \" + str(nilai))\n",
        "\n"
      ],
      "metadata": {
        "colab": {
          "base_uri": "https://localhost:8080/"
        },
        "id": "2iHQbbZw1WNC",
        "outputId": "c078cf78-7ac3-4b46-ea6e-cf6cd5ea5093"
      },
      "execution_count": 20,
      "outputs": [
        {
          "output_type": "stream",
          "name": "stdout",
          "text": [
            "Nama: Natan Julianto \n",
            "Umur: 13\n",
            "Alamat: Jl. Impian No. 456\n",
            "Cita-cita: Pilot\n",
            "\n",
            "Data Terbaru :\n",
            "nama: Natan Julianto \n",
            "umur: 29\n",
            "alamat: Jl. Kenyataan No. 789\n",
            "pekerjaan: Youtubers\n",
            "email: Natanjuliantogans876@gmail.com\n"
          ]
        }
      ]
    }
  ]
}