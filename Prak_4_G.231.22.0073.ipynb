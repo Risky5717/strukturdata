{
  "nbformat": 4,
  "nbformat_minor": 0,
  "metadata": {
    "colab": {
      "provenance": [],
      "authorship_tag": "ABX9TyNKv4OcACrCW0ThFh1wFCPn",
      "include_colab_link": true
    },
    "kernelspec": {
      "name": "python3",
      "display_name": "Python 3"
    },
    "language_info": {
      "name": "python"
    }
  },
  "cells": [
    {
      "cell_type": "markdown",
      "metadata": {
        "id": "view-in-github",
        "colab_type": "text"
      },
      "source": [
        "<a href=\"https://colab.research.google.com/github/Risky5717/strukturdata/blob/main/Prak_4_G.231.22.0073.ipynb\" target=\"_parent\"><img src=\"https://colab.research.google.com/assets/colab-badge.svg\" alt=\"Open In Colab\"/></a>"
      ]
    },
    {
      "cell_type": "markdown",
      "source": [
        "**Nama : Risky Mul Tazam**\n",
        "\n",
        "**Nim : G.231.22.0073**"
      ],
      "metadata": {
        "id": "gvStgu1va84R"
      }
    },
    {
      "cell_type": "code",
      "source": [
        "def cekPangram(kalimat):\n",
        "    # membuat set dari semua huruf alfabet\n",
        "    alfabet = set('abcdefghijklmnopqrstuvwxyz')\n",
        "\n",
        "    # menghapus spasi dan mengubah menjadi huruf kecil\n",
        "    kalimat = kalimat.replace(\" \", \"\").lower()\n",
        "\n",
        "    # membuat set dari kalimat\n",
        "    kalimat = set(kalimat)\n",
        "\n",
        "    # membandingkan set kalimat dengan set alfabet\n",
        "    return kalimat == alfabet\n",
        "\n",
        "# Program Utama untuk menguji fungsi di atas\n",
        "kalimat = input(\"Masukkan kalimat: \")\n",
        "if (cekPangram(kalimat)):\n",
        "    print('\"' + kalimat + '\"')\n",
        "    print(\"\\nadalah pangram\")\n",
        "else:\n",
        "    print('\"' + kalimat + '\"')\n",
        "    print(\"\\nbukan pangram\")\n"
      ],
      "metadata": {
        "id": "NYTnm3o6cVpO",
        "colab": {
          "base_uri": "https://localhost:8080/"
        },
        "outputId": "25c2b62d-0b94-4716-85dd-fe2b8965462c"
      },
      "execution_count": 6,
      "outputs": [
        {
          "output_type": "stream",
          "name": "stdout",
          "text": [
            "Masukkan kalimat: The quick brown fox jumps over the little lazy dog\n",
            "\"The quick brown fox jumps over the little lazy dog\"\n",
            "\n",
            "adalah pangram\n"
          ]
        }
      ]
    }
  ]
}