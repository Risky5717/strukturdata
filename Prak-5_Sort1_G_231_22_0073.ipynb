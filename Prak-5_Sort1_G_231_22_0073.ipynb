{
  "nbformat": 4,
  "nbformat_minor": 0,
  "metadata": {
    "colab": {
      "provenance": [],
      "authorship_tag": "ABX9TyOhRgbqdKmWrXsntGn4eYvW",
      "include_colab_link": true
    },
    "kernelspec": {
      "name": "python3",
      "display_name": "Python 3"
    },
    "language_info": {
      "name": "python"
    }
  },
  "cells": [
    {
      "cell_type": "markdown",
      "metadata": {
        "id": "view-in-github",
        "colab_type": "text"
      },
      "source": [
        "<a href=\"https://colab.research.google.com/github/Risky5717/strukturdata/blob/main/Sort1_G_231_22_0073.ipynb\" target=\"_parent\"><img src=\"https://colab.research.google.com/assets/colab-badge.svg\" alt=\"Open In Colab\"/></a>"
      ]
    },
    {
      "cell_type": "markdown",
      "source": [
        "**Nama : Risky Mul Tazam**\n",
        "\n",
        "**Nim : G.231.22.0073**"
      ],
      "metadata": {
        "id": "ZjYQJVHtoUpX"
      }
    },
    {
      "cell_type": "markdown",
      "source": [
        "**Python program for implementation of Bubble Sort**"
      ],
      "metadata": {
        "id": "-XKNi47kovSU"
      }
    },
    {
      "cell_type": "code",
      "source": [
        "def bubbleShort(data):\n",
        "\n",
        "    # Dapatkan panjang data\n",
        "    panjang = len(data) # Menghitung jumlah elemen dalam data\n",
        "\n",
        "    # Ulangi sampai data terurut\n",
        "    terurut = False # Membuat variabel boolean untuk mengecek apakah data sudah terurut atau belum\n",
        "    while not terurut: # Mengulangi selama data belum terurut\n",
        "        terurut = True # Mengasumsikan data sudah terurut\n",
        "\n",
        "        # Looping data dan tukar elemen yang tidak berurutan\n",
        "        for indeks in range(panjang-1): # Mengulangi indeks dari 0 sampai panjang data minus 1\n",
        "            if data[indeks] > data[indeks+1]: # Membandingkan elemen pada indeks saat ini dengan elemen berikutnya\n",
        "                terurut = False # Menandai data belum terurut\n",
        "                data[indeks], data[indeks+1] = data[indeks+1], data[indeks] # Menukar elemen yang tidak berurutan\n",
        "\n",
        "    # Kembalikan data yang terurut\n",
        "    return data # Mengembalikan data yang sudah terurut\n",
        "\n",
        "# Kode untuk menguji di atas\n",
        "data = [25, 29, 13, 19, 15] # Membuat data acak\n",
        "data_terurut = bubbleShort(data) # Memanggil fungsi bubbleShort dan menyimpan hasilnya dalam variabel data_terurut\n",
        "print(\"Data yang terurut adalah:\", data_terurut) # Mencetak data yang terurut"
      ],
      "metadata": {
        "colab": {
          "base_uri": "https://localhost:8080/"
        },
        "id": "WY0_3uJIZrLK",
        "outputId": "0678632b-f621-473b-a410-33a781aa0b91"
      },
      "execution_count": 7,
      "outputs": [
        {
          "output_type": "stream",
          "name": "stdout",
          "text": [
            "Data yang terurut adalah: [13, 15, 19, 25, 29]\n"
          ]
        }
      ]
    },
    {
      "cell_type": "markdown",
      "source": [
        "**Python program for implementation of Selection Sort**\n"
      ],
      "metadata": {
        "id": "uEmU_Ki9o1Zf"
      }
    },
    {
      "cell_type": "code",
      "source": [
        "def selection_Sort(data):\n",
        "\n",
        "    # Looping data dan cari elemen minimum di setiap iterasi\n",
        "    for indeks in range(len(data)): # Mengulangi indeks dari 0 sampai panjang data minus 1\n",
        "        min_indeks = indeks # Mengasumsikan elemen pada indeks saat ini adalah minimum\n",
        "        for k in range(indeks+1, len(data)): # Mengulangi k dari indeks berikutnya sampai panjang data minus 1\n",
        "            if data[min_indeks] > data[k]: # Membandingkan elemen minimum dengan elemen pada k\n",
        "                min_indeks = k # Menyimpan indeks elemen minimum baru\n",
        "\n",
        "        # Tukar elemen minimum dengan elemen saat ini\n",
        "        data[indeks], data[min_indeks] = data[min_indeks], data[indeks] # Menukar elemen yang tidak berurutan\n",
        "\n",
        "    # Kembalikan data yang terurut\n",
        "    return data # Mengembalikan data yang sudah terurut\n",
        "\n",
        "# Kode untuk menguji di atas\n",
        "data = [25, 29, 13, 19, 15] # Membuat data acak\n",
        "data_terurut = selection_Sort(data) # Memanggil fungsi selection_Sort dan menyimpan hasilnya dalam variabel data_terurut\n",
        "print(\"Data yang terurut adalah:\", data_terurut) # Mencetak data yang terurut"
      ],
      "metadata": {
        "colab": {
          "base_uri": "https://localhost:8080/"
        },
        "id": "CiDi-8IQaoxt",
        "outputId": "4157058c-0e4c-4372-c02b-a38641790789"
      },
      "execution_count": 5,
      "outputs": [
        {
          "output_type": "stream",
          "name": "stdout",
          "text": [
            "Data yang terurut adalah: [13, 15, 19, 25, 29]\n"
          ]
        }
      ]
    },
    {
      "cell_type": "markdown",
      "source": [
        "**Python program for implementation of Insertion\n",
        "Sort**"
      ],
      "metadata": {
        "id": "KHlQYaHQpBtP"
      }
    },
    {
      "cell_type": "code",
      "source": [
        "def insertionSort(data):\n",
        "\n",
        "    # Looping data dan sisipkan setiap elemen di posisi yang benar\n",
        "    for indeks in range(1, len(data)): # Mengulangi indeks dari 1 sampai panjang data minus 1\n",
        "        kunci = data[indeks] # Menyimpan elemen pada indeks saat ini sebagai kunci\n",
        "        k = indeks-1 # Menyimpan indeks sebelumnya sebagai k\n",
        "\n",
        "        # Geser elemen yang lebih besar dari kunci ke kanan\n",
        "        while k >= 0 and kunci < data[k]: # Mengulangi selama k tidak negatif dan kunci lebih kecil dari elemen pada k\n",
        "            data[k + 1] = data[k] # Menyalin elemen pada k ke posisi berikutnya\n",
        "            k -= 1 # Mengurangi k dengan satu\n",
        "\n",
        "        # Sisipkan kunci di posisi yang benar\n",
        "        data[k + 1] = kunci # Menempatkan kunci di posisi yang kosong\n",
        "\n",
        "    # Kembalikan data yang terurut\n",
        "    return data # Mengembalikan data yang sudah terurut\n",
        "\n",
        "# Kode untuk menguji di atas\n",
        "data = [25, 29, 13, 19, 15] # Membuat data acak\n",
        "data_terurut = insertionSort(data) # Memanggil fungsi insertionSort dan menyimpan hasilnya dalam variabel data_terurut\n",
        "print(\"Data yang terurut adalah:\", data_terurut) # Mencetak data yang terurut"
      ],
      "metadata": {
        "colab": {
          "base_uri": "https://localhost:8080/"
        },
        "id": "stAOyCHibREF",
        "outputId": "d61e8488-4c48-4e1a-f8ef-a91fce297294"
      },
      "execution_count": 6,
      "outputs": [
        {
          "output_type": "stream",
          "name": "stdout",
          "text": [
            "Data yang terurut adalah: [13, 15, 19, 25, 29]\n"
          ]
        }
      ]
    }
  ]
}
