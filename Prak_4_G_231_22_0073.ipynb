{
  "nbformat": 4,
  "nbformat_minor": 0,
  "metadata": {
    "colab": {
      "provenance": [],
      "authorship_tag": "ABX9TyOmqpyNyW9wELfEX+NX87Q2",
      "include_colab_link": true
    },
    "kernelspec": {
      "name": "python3",
      "display_name": "Python 3"
    },
    "language_info": {
      "name": "python"
    }
  },
  "cells": [
    {
      "cell_type": "markdown",
      "metadata": {
        "id": "view-in-github",
        "colab_type": "text"
      },
      "source": [
        "<a href=\"https://colab.research.google.com/github/Risky5717/strukturdata/blob/main/Prak_4_G_231_22_0073.ipynb\" target=\"_parent\"><img src=\"https://colab.research.google.com/assets/colab-badge.svg\" alt=\"Open In Colab\"/></a>"
      ]
    },
    {
      "cell_type": "markdown",
      "source": [
        "**Nama : Risky Mul Tazam**\n",
        "\n",
        "**Nim : G.231.22.0073**"
      ],
      "metadata": {
        "id": "gvStgu1va84R"
      }
    },
    {
      "cell_type": "code",
      "source": [
        "def cekPangram(kalimat):\n",
        "    # membuat set dari semua huruf alfabet\n",
        "    alfabet = set('abcdefghijklmnopqrstuvwxyz')\n",
        "\n",
        "    # menghapus spasi dan mengubah menjadi huruf kecil\n",
        "    kalimat = kalimat.replace(\" \", \"\").lower()\n",
        "\n",
        "    # membuat set dari kalimat\n",
        "    kalimat = set(kalimat)\n",
        "\n",
        "    # membandingkan set kalimat dengan set alfabet\n",
        "    return kalimat == alfabet\n",
        "\n",
        "# Program Utama untuk menguji fungsi di atas\n",
        "kalimat = \"The quick brown fox jumps over the little lazy dog\"\n",
        "if (cekPangram(kalimat)):\n",
        "    print('\"' + kalimat + '\"')\n",
        "    print(\"\\nadalah pangram\")\n",
        "else:\n",
        "    print('\"' + kalimat + '\"')\n",
        "    print(\"\\nbukan pangram\")\n"
      ],
      "metadata": {
        "id": "NYTnm3o6cVpO",
        "colab": {
          "base_uri": "https://localhost:8080/"
        },
        "outputId": "48bcef3e-1f36-4e02-a5b6-7e286cca9f66"
      },
      "execution_count": 4,
      "outputs": [
        {
          "output_type": "stream",
          "name": "stdout",
          "text": [
            "\"The quick brown fox jumps over the little lazy dog\"\n",
            "\n",
            "adalah pangram\n"
          ]
        }
      ]
    }
  ]
}