{
  "nbformat": 4,
  "nbformat_minor": 0,
  "metadata": {
    "colab": {
      "provenance": [],
      "authorship_tag": "ABX9TyO+vmNZLM683/RtRPW3SNeA",
      "include_colab_link": true
    },
    "kernelspec": {
      "name": "python3",
      "display_name": "Python 3"
    },
    "language_info": {
      "name": "python"
    }
  },
  "cells": [
    {
      "cell_type": "markdown",
      "metadata": {
        "id": "view-in-github",
        "colab_type": "text"
      },
      "source": [
        "<a href=\"https://colab.research.google.com/github/Risky5717/strukturdata/blob/main/Prak_8_Graph_G_231_22_0073.ipynb\" target=\"_parent\"><img src=\"https://colab.research.google.com/assets/colab-badge.svg\" alt=\"Open In Colab\"/></a>"
      ]
    },
    {
      "cell_type": "markdown",
      "source": [
        "**Nama : Risky Mul Tazam**\n",
        "\n",
        "**Nim : G.231.22.0073**"
      ],
      "metadata": {
        "id": "feb8isAPoFmM"
      }
    },
    {
      "cell_type": "code",
      "source": [
        "from queue import PriorityQueue  # Mengimpor PriorityQueue dari modul queue\n",
        "\n",
        "class Graph:\n",
        "    def __init__(self, num_of_vertices):  # Konstruktor untuk kelas Graph\n",
        "        self.v = num_of_vertices  # Jumlah node dalam grafik\n",
        "        self.edges = [[-1 for i in range(num_of_vertices)] for j in range(num_of_vertices)]  # Matriks untuk menyimpan bobot setiap sisi\n",
        "        self.visited = []  # Daftar untuk menyimpan node yang telah dikunjungi\n",
        "\n",
        "    def add_edge(self, u, v, weight):  # Fungsi untuk menambahkan sisi ke grafik\n",
        "        self.edges[u][v] = weight  # Menetapkan bobot untuk sisi dari u ke v\n",
        "        self.edges[v][u] = weight  # Menetapkan bobot untuk sisi dari v ke u (karena ini adalah grafik tak berarah)\n",
        "\n",
        "def dijkstra(graph, start_vertex):  # Fungsi untuk mengimplementasikan algoritma Dijkstra\n",
        "    D = {v:float('inf') for v in range(graph.v)}  # Kamus untuk menyimpan jarak terpendek dari node awal ke setiap node lainnya\n",
        "    D[start_vertex] = 0  # Jarak dari node awal ke dirinya sendiri adalah 0\n",
        "\n",
        "    pq = PriorityQueue()  # Membuat antrian prioritas\n",
        "    pq.put((0, start_vertex))  # Memasukkan node awal ke antrian prioritas\n",
        "\n",
        "    while not pq.empty():  # Selama antrian prioritas tidak kosong\n",
        "        (dist, current_vertex) = pq.get()  # Mendapatkan node dengan jarak terpendek dari node awal\n",
        "        graph.visited.append(current_vertex)  # Menandai node tersebut sebagai dikunjungi\n",
        "\n",
        "        for neighbor in range(graph.v):  # Untuk setiap node tetangga\n",
        "            if graph.edges[current_vertex][neighbor] != -1:  # Jika ada sisi antara node saat ini dan node tetangga\n",
        "                distance = graph.edges[current_vertex][neighbor]  # Mendapatkan bobot sisi\n",
        "                if neighbor not in graph.visited:  # Jika node tetangga belum dikunjungi\n",
        "                    old_cost = D[neighbor]  # Mendapatkan jarak lama dari node awal ke node tetangga\n",
        "                    new_cost = D[current_vertex] + distance  # Menghitung jarak baru dari node awal ke node tetangga\n",
        "                    if new_cost < old_cost:  # Jika jarak baru lebih pendek\n",
        "                        pq.put((new_cost, neighbor))  # Memasukkan node tetangga ke antrian prioritas dengan jarak baru\n",
        "                        D[neighbor] = new_cost  # Memperbarui jarak terpendek dari node awal ke node tetangga\n",
        "    return D  # Mengembalikan kamus jarak terpendek\n",
        "\n",
        "g = Graph(9)  # Membuat grafik dengan 9 node\n",
        "# Menambahkan sisi ke grafik\n",
        "g.add_edge(0, 1, 4)\n",
        "g.add_edge(0, 6, 7)\n",
        "g.add_edge(1, 6, 11)\n",
        "g.add_edge(1, 7, 20)\n",
        "g.add_edge(1, 2, 9)\n",
        "g.add_edge(2, 3, 6)\n",
        "g.add_edge(2, 4, 2)\n",
        "g.add_edge(3, 4, 10)\n",
        "g.add_edge(3, 5, 5)\n",
        "g.add_edge(4, 5, 15)\n",
        "g.add_edge(4, 7, 1)\n",
        "g.add_edge(4, 8, 5)\n",
        "g.add_edge(5, 8, 12)\n",
        "g.add_edge(6, 7, 1)\n",
        "g.add_edge(7, 8, 3)\n",
        "\n",
        "start_vertex = int(input(\"Masukkan node awal (antara 0 dan 8): \"))  # Meminta pengguna untuk memasukkan node awal\n",
        "\n",
        "if start_vertex < 0 or start_vertex > 8:  # Jika node awal tidak valid\n",
        "    print(\"Node hanya ada dari 0 hingga 8.\")  # Mencetak pesan kesalahan\n",
        "else:  # Jika node awal valid\n",
        "    D = dijkstra(g, start_vertex)  # Menghitung jarak terpendek dari node awal ke semua node lainnya\n",
        "\n",
        "    for vertex in range(len(D)):  # Untuk setiap node dalam grafik\n",
        "        print(\"Jarak dari node\", start_vertex, \"ke node\", vertex, \"adalah\", D[vertex])  # Mencetak jarak terpendek dari node awal ke node tersebut\n"
      ],
      "metadata": {
        "colab": {
          "base_uri": "https://localhost:8080/"
        },
        "id": "OtMfIZqJgOy5",
        "outputId": "abf3f05d-2b4e-46e0-d6d2-765edb637103"
      },
      "execution_count": 21,
      "outputs": [
        {
          "output_type": "stream",
          "name": "stdout",
          "text": [
            "Masukkan node awal (antara 0 dan 8): 0\n",
            "Jarak dari node 0 ke node 0 adalah 0\n",
            "Jarak dari node 0 ke node 1 adalah 4\n",
            "Jarak dari node 0 ke node 2 adalah 11\n",
            "Jarak dari node 0 ke node 3 adalah 17\n",
            "Jarak dari node 0 ke node 4 adalah 9\n",
            "Jarak dari node 0 ke node 5 adalah 22\n",
            "Jarak dari node 0 ke node 6 adalah 7\n",
            "Jarak dari node 0 ke node 7 adalah 8\n",
            "Jarak dari node 0 ke node 8 adalah 11\n"
          ]
        }
      ]
    }
  ]
}